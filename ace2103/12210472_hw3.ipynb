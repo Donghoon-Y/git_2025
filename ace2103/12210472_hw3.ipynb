{
  "cells": [
    {
      "cell_type": "markdown",
      "id": "4f46c49c",
      "metadata": {
        "deletable": false,
        "editable": false,
        "nbgrader": {
          "cell_type": "markdown",
          "checksum": "f49c9ecd4e4419d54bb03f02cfa61d44",
          "grade": false,
          "grade_id": "cell-7e1ed028fd887dfd",
          "locked": true,
          "schema_version": 3,
          "solution": false,
          "task": false
        },
        "id": "4f46c49c"
      },
      "source": [
        "# Exercise: Root Finding 2\n",
        "**강좌**: *Numerical Analysis*\n",
        "\n",
        "**Due**: 2024/10/8"
      ]
    },
    {
      "cell_type": "markdown",
      "id": "381e5f6a",
      "metadata": {
        "deletable": false,
        "editable": false,
        "nbgrader": {
          "cell_type": "markdown",
          "checksum": "0ee972418ee853e6fe4a859bc51fc2b5",
          "grade": false,
          "grade_id": "cell-f68fb90ec9f75fe1",
          "locked": true,
          "schema_version": 3,
          "solution": false,
          "task": false
        },
        "id": "381e5f6a"
      },
      "source": [
        "## Problem #1\n",
        "Write a function to find a root using the Newton method with the following specifications:\n",
        "- Use a for loop with a specified maximum number of iterations.\n",
        "- Input parameters\n",
        "   * function *f*\n",
        "   * derivative *fp*\n",
        "   * intial guess: x0\n",
        "   * tolerance *tol*\n",
        "   * maximum iterations *iter_max*\n",
        "   * (Optional) Boolean verbose keyword to print intermediate results. The default is False.\n",
        "- Additionally, include a proper docstring to describe the function's behavior, parameters, and return values."
      ]
    },
    {
      "cell_type": "code",
      "execution_count": 1,
      "id": "627f1ba4",
      "metadata": {
        "deletable": false,
        "nbgrader": {
          "cell_type": "code",
          "checksum": "8011efb42eefd86d1b1d3e23474f22ed",
          "grade": false,
          "grade_id": "cell-fe271d986d99dd1f",
          "locked": false,
          "schema_version": 3,
          "solution": true,
          "task": false
        },
        "id": "627f1ba4"
      },
      "outputs": [],
      "source": [
        "# Write your answer\n",
        "def newton(f, fp, x0, tol=1e-6, iter_max=50):\n",
        "    '''\n",
        "    f : function\n",
        "      함수\n",
        "    fp : function\n",
        "      f의 미분한 함수\n",
        "    x0 : float\n",
        "      inital guess\n",
        "    tol : float\n",
        "      tolerance\n",
        "    iter_max : int\n",
        "      iteration maxium\n",
        "    '''\n",
        "    #초기값이 해일 경우\n",
        "    if f(x0) == 0 :\n",
        "      print(f'Converged at {x0} ')\n",
        "      return x0\n",
        "\n",
        "    #초기값을 기울기가 0 이면 안됨\n",
        "    elif fp(x0) != 0 :\n",
        "      for i in range(iter_max) :\n",
        "        x1 = x0 - (f(x0)/fp(x0))\n",
        "        eps_a = abs(x1 - x0) / max(abs(x1), tol)\n",
        "        x0 = x1\n",
        "        if fp(x0) == 0 :\n",
        "          raise ValueError('Wrong guess')\n",
        "\n",
        "        elif eps_a < tol :\n",
        "          print(f'Converged at {x1}')\n",
        "          return x1\n",
        "\n",
        "    else :\n",
        "      raise ValueError('Wrong Initial Guess')"
      ]
    },
    {
      "cell_type": "code",
      "execution_count": 2,
      "id": "1023b5fa-9c29-4d13-beb8-1150436797f3",
      "metadata": {
        "deletable": false,
        "editable": false,
        "nbgrader": {
          "cell_type": "code",
          "checksum": "474e1feb1ae7f81b6b54fcec9edff1ec",
          "grade": true,
          "grade_id": "cell-962d2cf9716a6461",
          "locked": true,
          "points": 5,
          "schema_version": 3,
          "solution": false,
          "task": false
        },
        "colab": {
          "base_uri": "https://localhost:8080/"
        },
        "id": "1023b5fa-9c29-4d13-beb8-1150436797f3",
        "outputId": "893b0949-97c8-4c38-ab6b-6bd03676fecf"
      },
      "outputs": [
        {
          "output_type": "stream",
          "name": "stdout",
          "text": [
            "Converged at -2.479481833541344\n",
            "Converged at 0.0\n",
            "Converged at 0 \n"
          ]
        }
      ],
      "source": [
        "import numpy as np\n",
        "f = lambda x : x**2 + 10*np.sin(x)\n",
        "fp = lambda x: 2*x + 10*np.cos(x)\n",
        "\n",
        "assert abs(newton(f, fp, x0=-4) - (-2.47948)) < 5e-5\n",
        "assert abs(newton(f, fp, x0=-1) - (0.0)) < 1e-6\n",
        "assert abs(newton(f, fp, x0=0)- (0.0)) < 1e-6"
      ]
    },
    {
      "cell_type": "markdown",
      "id": "5ede5245",
      "metadata": {
        "deletable": false,
        "editable": false,
        "nbgrader": {
          "cell_type": "markdown",
          "checksum": "1c2113e4e67b92e98742a1fbe6b8bff1",
          "grade": false,
          "grade_id": "cell-cee5d5bcc4cb6723",
          "locked": true,
          "schema_version": 3,
          "solution": false,
          "task": false
        },
        "id": "5ede5245"
      },
      "source": [
        "## Problem #2\n",
        "Write a function to find a root using the Secant method with the following specifications:\n",
        "- Use a for loop with a specified maximum number of iterations.\n",
        "- Input parameters\n",
        "   * function *f*\n",
        "   * intial guesses: $x_0$, $x_{-1}$\n",
        "   * tolerance *tol*\n",
        "   * maximum iterations *iter_max*\n",
        "   * (Optional) Boolean verbose keyword to print intermediate results. The default is False.\n",
        "- Additionally, include a proper docstring to describe the function's behavior, parameters, and return values."
      ]
    },
    {
      "cell_type": "code",
      "execution_count": 3,
      "id": "ab2cafec",
      "metadata": {
        "deletable": false,
        "nbgrader": {
          "cell_type": "code",
          "checksum": "86c50f13f844f913c94e165105154392",
          "grade": false,
          "grade_id": "cell-604cece7f9e1450f",
          "locked": false,
          "schema_version": 3,
          "solution": true,
          "task": false
        },
        "id": "ab2cafec"
      },
      "outputs": [],
      "source": [
        "# Write your answer\n",
        "def secant(f, x0, x1, tol=1e-6, iter_max=50):\n",
        "    '''\n",
        "    f : function\n",
        "      함수\n",
        "    x0 : float\n",
        "      initial guess\n",
        "    x1 : float\n",
        "      initial guess\n",
        "    tol : float\n",
        "      tolerance\n",
        "    iter_max : int\n",
        "      interaion maxium\n",
        "    '''\n",
        "    #초기값과 이전값의 함수값이 같으면 다음값을 정의할 수 없음\n",
        "    if f(x0)-f(x1) == 0:\n",
        "      raise ValueError('Wrong Initial Guess')\n",
        "\n",
        "    #초기값이 해인 경우\n",
        "    elif f(x1) == 0 :\n",
        "      print(f'Converged at {x1} ')\n",
        "      return x1\n",
        "\n",
        "    #이전값이 해인 경우\n",
        "    elif f(x0) == 0 :\n",
        "      print(f'Coverged at {x0}')\n",
        "      return x0\n",
        "\n",
        "    else :\n",
        "      for i in range(iter_max) :\n",
        "        xn = x1 -f(x1)*(x1-x0)/(f(x1)-f(x0))\n",
        "        eps_a = abs(xn-x1)/max(abs(xn),tol)\n",
        "        x0 = x1\n",
        "        x1 = xn\n",
        "        if eps_a < tol :\n",
        "          print(f'Converged at {xn}')\n",
        "          return xn"
      ]
    },
    {
      "cell_type": "code",
      "execution_count": 4,
      "id": "148884ab-3434-41a2-9574-fbf8ef485383",
      "metadata": {
        "deletable": false,
        "editable": false,
        "nbgrader": {
          "cell_type": "code",
          "checksum": "5fc89acb26ed708c9b1a5731c073b9f6",
          "grade": true,
          "grade_id": "cell-f84270eb85482c08",
          "locked": true,
          "points": 5,
          "schema_version": 3,
          "solution": false,
          "task": false
        },
        "id": "148884ab-3434-41a2-9574-fbf8ef485383",
        "colab": {
          "base_uri": "https://localhost:8080/"
        },
        "outputId": "483d5b29-49e3-4d2c-8c50-02db73afaa0c"
      },
      "outputs": [
        {
          "output_type": "stream",
          "name": "stdout",
          "text": [
            "Converged at -2.479481833541029\n",
            "Converged at -6.232790782523192e-32\n",
            "Coverged at 0\n"
          ]
        }
      ],
      "source": [
        "f = lambda x : x**2 + 10*np.sin(x)\n",
        "\n",
        "assert abs(secant(f, x0=-4, x1=-5) - (-2.47948)) < 5e-5\n",
        "assert abs(secant(f, x0=-1, x1=-1.1) - (0.0)) < 1e-6\n",
        "assert abs(secant(f, x0=0, x1=-1)- (0.0)) < 1e-6"
      ]
    },
    {
      "cell_type": "markdown",
      "id": "e61dc867",
      "metadata": {
        "deletable": false,
        "editable": false,
        "nbgrader": {
          "cell_type": "markdown",
          "checksum": "4ba009c35e6fdd00b7dd32412d8716db",
          "grade": false,
          "grade_id": "cell-8be80bcd040bc00e",
          "locked": true,
          "schema_version": 3,
          "solution": false,
          "task": false
        },
        "id": "e61dc867"
      },
      "source": [
        "# Problem #3\n",
        "Determine the highest real root of\n",
        "\n",
        "$$\n",
        "f(x) = 2x^3 - 11.7x^2 + 17.7x - 5\n",
        "$$\n",
        "\n",
        "(a) Graphically.\n",
        "\n",
        "(b) Newton-Raphson method with $x_0 = 3$.\n",
        "\n",
        "(c) Secant method with $x_{-1}=3, x_0=4$."
      ]
    },
    {
      "cell_type": "code",
      "execution_count": 5,
      "id": "8ef378c3",
      "metadata": {
        "deletable": false,
        "nbgrader": {
          "cell_type": "code",
          "checksum": "5605b7ef1b9e4b7458219452049ae2e5",
          "grade": true,
          "grade_id": "cell-f6c57147fce4c063",
          "locked": false,
          "points": 1,
          "schema_version": 3,
          "solution": true,
          "task": false
        },
        "colab": {
          "base_uri": "https://localhost:8080/",
          "height": 449
        },
        "id": "8ef378c3",
        "outputId": "bfe8beb1-e1f6-4224-b039-fa74e46d3a75"
      },
      "outputs": [
        {
          "output_type": "display_data",
          "data": {
            "text/plain": [
              "<Figure size 640x480 with 1 Axes>"
            ],
            "image/png": "[encoded data removed]"
          },
          "metadata": {}
        }
      ],
      "source": [
        "# YOUR CODE HERE\n",
        "import numpy as np\n",
        "from matplotlib import pyplot as plt\n",
        "\n",
        "f = lambda x : 2*x**3 - 11.7*x**2 + 17.7*x -5\n",
        "fp = lambda x : 6*x**2 - 2*11.7*x +17.7\n",
        "\n",
        "x = np.linspace(0,5,101)\n",
        "\n",
        "plt.plot(x,f(x),color = 'b')\n",
        "plt.scatter(3.563160824859791,f(3.563160824859791), color ='r')\n",
        "plt.axhline(0, color='black',linewidth=1)\n",
        "plt.legend(['function','Graphically answer'])\n",
        "plt.xlim(3,4)\n",
        "plt.xlabel('x')\n",
        "plt.ylabel('f')\n",
        "plt.grid(True)\n",
        "plt.show()\n"
      ]
    },
    {
      "cell_type": "code",
      "execution_count": 6,
      "id": "eacb3f96-41bc-41c1-a291-b82a07080814",
      "metadata": {
        "deletable": false,
        "nbgrader": {
          "cell_type": "code",
          "checksum": "f2fade6484ff79a7de728bbac60e91f9",
          "grade": false,
          "grade_id": "cell-57a9b7c6abe35785",
          "locked": false,
          "schema_version": 3,
          "solution": true,
          "task": false
        },
        "colab": {
          "base_uri": "https://localhost:8080/"
        },
        "id": "eacb3f96-41bc-41c1-a291-b82a07080814",
        "outputId": "980677c4-3914-43ae-f920-7a21a068a833"
      },
      "outputs": [
        {
          "output_type": "stream",
          "name": "stdout",
          "text": [
            "Converged at 3.5631608248635556\n"
          ]
        }
      ],
      "source": [
        "# Write your answers (b)\n",
        "# Save the result in ans_b\n",
        "# Write your answer\n",
        "def newton(f, fp, x0, tol=1e-6, iter_max=50):\n",
        "    '''\n",
        "    f : function\n",
        "      함수\n",
        "    fp : function\n",
        "      f의 미분한 함수\n",
        "    x0 : float\n",
        "      inital guess\n",
        "    tol : float\n",
        "      tolerance\n",
        "    iter_max : int\n",
        "      iteration maxium\n",
        "    '''\n",
        "   #초기값이 해일 경우\n",
        "    if f(x0) == 0 :\n",
        "      print(f'Converged at {x0} ')\n",
        "      return x0\n",
        "\n",
        "    #초기값을 기울기가 0 이면 안됨\n",
        "    elif fp(x0) != 0 :\n",
        "      for i in range(iter_max) :\n",
        "        x1 = x0 - (f(x0)/fp(x0))\n",
        "        eps_a = abs(x1 - x0) / max(abs(x1), tol)\n",
        "        x0 = x1\n",
        "        if fp(x0) == 0 :\n",
        "          raise ValueError('Wrong guess')\n",
        "\n",
        "        elif eps_a < tol :\n",
        "          print(f'Converged at {x1}')\n",
        "          return x1\n",
        "\n",
        "    else :\n",
        "      raise ValueError('Wrong Initial Guess')\n",
        "\n",
        "ans_b = newton(f, fp, x0 = 3)"
      ]
    },
    {
      "cell_type": "code",
      "execution_count": null,
      "id": "a557d5a2-a05d-4061-952a-dd026eb3a740",
      "metadata": {
        "deletable": false,
        "editable": false,
        "nbgrader": {
          "cell_type": "code",
          "checksum": "6ff5fc4a2604a6df3e6baa8adee2e974",
          "grade": true,
          "grade_id": "cell-5b6fd022369d37ae",
          "locked": true,
          "points": 2,
          "schema_version": 3,
          "solution": false,
          "task": false
        },
        "id": "a557d5a2-a05d-4061-952a-dd026eb3a740"
      },
      "outputs": [],
      "source": [
        "# Do not remove!!!"
      ]
    },
    {
      "cell_type": "code",
      "execution_count": 7,
      "id": "5f095798-ca4b-4c74-9eff-ff0eb8b096a5",
      "metadata": {
        "deletable": false,
        "nbgrader": {
          "cell_type": "code",
          "checksum": "4e942d268f5423d0939d60e62f1084f6",
          "grade": false,
          "grade_id": "cell-ccc08edda3d585d2",
          "locked": false,
          "schema_version": 3,
          "solution": true,
          "task": false
        },
        "id": "5f095798-ca4b-4c74-9eff-ff0eb8b096a5",
        "colab": {
          "base_uri": "https://localhost:8080/"
        },
        "outputId": "4f2160a2-8715-44fe-a79c-794a2b9b4775"
      },
      "outputs": [
        {
          "output_type": "stream",
          "name": "stdout",
          "text": [
            "Converged at 3.563160824859791\n"
          ]
        }
      ],
      "source": [
        "# Write your answers (c)\n",
        "# Save the result in ans_c\n",
        "\n",
        "# YOUR CODE HERE\n",
        "def secant(f, x0, x1, tol=1e-6, iter_max=50):\n",
        "    '''\n",
        "    f : function\n",
        "      함수\n",
        "    x0 : float\n",
        "      initial guess\n",
        "    x1 : float\n",
        "      initial guess\n",
        "    tol : float\n",
        "      tolerance\n",
        "    iter_max : int\n",
        "      interaion maxium\n",
        "    '''\n",
        "     #초기값과 이전값의 함수값이 같으면 다음값을 정의할 수 없음\n",
        "    if f(x0)-f(x1) == 0:\n",
        "      raise ValueError('Wrong Initial Guess')\n",
        "\n",
        "    #초기값이 해인 경우\n",
        "    elif f(x1) == 0 :\n",
        "      print(f'Converged at {x1} ')\n",
        "      return x1\n",
        "\n",
        "    #이전값이 해인 경우\n",
        "    elif f(x0) == 0 :\n",
        "      print(f'Coverged at {x0}')\n",
        "      return x0\n",
        "\n",
        "    else :\n",
        "      for i in range(iter_max) :\n",
        "        xn = x1 -f(x1)*(x1-x0)/(f(x1)-f(x0))\n",
        "        eps_a = abs(xn-x1)/max(abs(xn),tol)\n",
        "        x0 = x1\n",
        "        x1 = xn\n",
        "        if eps_a < tol :\n",
        "          print(f'Converged at {xn}')\n",
        "          return xn\n",
        "ans_c = secant(f, x0 = 3, x1 = 4)"
      ]
    },
    {
      "cell_type": "code",
      "execution_count": null,
      "id": "b5ccbc9a-4b58-4c5a-b7c4-9f3828ce6a9b",
      "metadata": {
        "deletable": false,
        "editable": false,
        "nbgrader": {
          "cell_type": "code",
          "checksum": "9b8b3963b233be9f55082bf045fb0010",
          "grade": true,
          "grade_id": "cell-01ff38e473ed2c83",
          "locked": true,
          "points": 2,
          "schema_version": 3,
          "solution": false,
          "task": false
        },
        "id": "b5ccbc9a-4b58-4c5a-b7c4-9f3828ce6a9b"
      },
      "outputs": [],
      "source": [
        "# Do not remove!!!"
      ]
    },
    {
      "cell_type": "markdown",
      "id": "b579a401",
      "metadata": {
        "deletable": false,
        "editable": false,
        "nbgrader": {
          "cell_type": "markdown",
          "checksum": "ffc787f4491eddb530a1df626d130537",
          "grade": false,
          "grade_id": "cell-74f8ce63076a76a4",
          "locked": true,
          "schema_version": 3,
          "solution": false,
          "task": false
        },
        "id": "b579a401"
      },
      "source": [
        "## Problem #4\n",
        "Aerospace engineers sometimes compute the trajectories of projectiles like rockets. A related problem deals with the trajectory of a\n",
        "thrown ball. The trajectory of a ball is defi ned by the (x, y) coordinates. The trajectory can be modeled as\n",
        "$$\n",
        "y = \\tan(\\theta_0)x - \\frac{g}{2v_0^2\\cos^2\\theta_0} x^2+y_0\n",
        "$$\n",
        "Find the appropriate initial angle $\\theta_0$, if the initial velocity $v_0=20m/s$ and the disctance to the catcher $x$ is $40m$. Note that the ball leaves the thrower’s hand at an elevation of $y_0=1.8 m$ and and the catcher receives it at $1m$. Express the fi nal result in degrees. Use a value of $9.81m/s^2$ for $gG.\n",
        "\n",
        "(a) Graphically and determine the initial guess\n",
        "\n",
        "(b) Secant method"
      ]
    },
    {
      "cell_type": "code",
      "execution_count": 8,
      "id": "06ee6150-39d8-4827-bbdc-14bfd46198ef",
      "metadata": {
        "deletable": false,
        "nbgrader": {
          "cell_type": "code",
          "checksum": "bc4220990bab4e9d6c6deadc1f02767d",
          "grade": true,
          "grade_id": "cell-9b7cadf3621cc1ce",
          "locked": false,
          "points": 2,
          "schema_version": 3,
          "solution": true,
          "task": false
        },
        "id": "06ee6150-39d8-4827-bbdc-14bfd46198ef",
        "colab": {
          "base_uri": "https://localhost:8080/",
          "height": 472
        },
        "outputId": "4fbe17c4-df23-4cba-f0c1-9e8ede2cf2d6"
      },
      "outputs": [
        {
          "output_type": "display_data",
          "data": {
            "text/plain": [
              "<Figure size 640x480 with 1 Axes>"
            ],
            "image/png": "[encoded data removed]"
          },
          "metadata": {}
        }
      ],
      "source": [
        "# YOUR CODE HERE\n",
        "import numpy as np\n",
        "from matplotlib import pyplot as plt\n",
        "\n",
        "v0 = 20\n",
        "x_dis = 40\n",
        "y0 = 1.8\n",
        "y = 1\n",
        "g = 9.81\n",
        "\n",
        "x = np.linspace(0, np.pi/2.5, 1000) #tan 함수의 증가율이 pi/2 근처로 갈수록 급격하게 커지므로 그 근처의 값을 설정함.\n",
        "f = lambda t : x_dis*np.tan(t) - (g*x_dis**2)/(2*v0**2*np.cos(t)**2) + (y0-y)\n",
        "\n",
        "plt.plot(x, f(x), color = 'b') #함수의 개형을 그림\n",
        "plt.scatter(0.634952129853159, f(0.634952129853159), color = 'r')\n",
        "plt.scatter(0.9158471871916733283, f(0.9158471871916733283),  color = 'g')\n",
        "plt.legend(['function', 'Graphically answer1', 'Graphically answer2'])\n",
        "plt.xlim(0.4,1.2)\n",
        "plt.axhline(0, color='black',linewidth=1)\n",
        "plt.xlabel('theta')\n",
        "plt.ylabel('f')\n",
        "plt.title('Trajectory of a thrown ball')\n",
        "plt.grid(True)\n",
        "\n",
        "#determine the initial guess\n",
        "x0, x1 = 0.4, 0.8"
      ]
    },
    {
      "cell_type": "code",
      "execution_count": 9,
      "id": "48e6c6c0",
      "metadata": {
        "deletable": false,
        "nbgrader": {
          "cell_type": "code",
          "checksum": "e3cc45eaf71e4f49bf8583901aa0d0d4",
          "grade": false,
          "grade_id": "cell-7e4cca84c8892f74",
          "locked": false,
          "schema_version": 3,
          "solution": true,
          "task": false
        },
        "id": "48e6c6c0",
        "colab": {
          "base_uri": "https://localhost:8080/"
        },
        "outputId": "10e5b0b9-1823-40c5-eda4-ee5b202974b6"
      },
      "outputs": [
        {
          "output_type": "stream",
          "name": "stdout",
          "text": [
            "Converged at 0.6349522535674004\n",
            "36.38008432173251\n"
          ]
        }
      ],
      "source": [
        "# Write your answers (b)\n",
        "# Save the result in ans_b\n",
        "\n",
        "def secant(f, x0, x1, tol=1e-6, iter_max=50):\n",
        "    '''\n",
        "    f : function\n",
        "      함수\n",
        "    x0 : float\n",
        "      initial guess\n",
        "    x1 : float\n",
        "      initial guess\n",
        "    tol : float\n",
        "      tolerance\n",
        "    iter_max : int\n",
        "      interaion maxium\n",
        "    '''\n",
        "     #초기값과 이전값의 함수값이 같으면 다음값을 정의할 수 없음\n",
        "    if f(x0)-f(x1) == 0:\n",
        "      raise ValueError('Wrong Initial Guess')\n",
        "\n",
        "    #초기값이 해인 경우\n",
        "    elif f(x1) == 0 :\n",
        "      print(f'Converged at {x1} ')\n",
        "      return x1\n",
        "\n",
        "    #이전값이 해인 경우\n",
        "    elif f(x0) == 0 :\n",
        "      print(f'Coverged at {x0}')\n",
        "      return x0\n",
        "\n",
        "    else :\n",
        "      for i in range(iter_max) :\n",
        "        xn = x1 -f(x1)*(x1-x0)/(f(x1)-f(x0))\n",
        "        eps_a = abs(xn-x1)/max(abs(xn),tol)\n",
        "        x0 = x1\n",
        "        x1 = xn\n",
        "        if eps_a < tol :\n",
        "          print(f'Converged at {xn}')\n",
        "          return xn\n",
        "ans_b = 180/np.pi*secant(f, x0 , x1) #deg로 저장함.\n",
        "print(ans_b)"
      ]
    },
    {
      "cell_type": "code",
      "execution_count": null,
      "id": "40ca2564-e2ee-412e-863d-70274652f47d",
      "metadata": {
        "deletable": false,
        "editable": false,
        "nbgrader": {
          "cell_type": "code",
          "checksum": "7202ec4243be3f614428c2abe3256c1f",
          "grade": true,
          "grade_id": "cell-19245e5c403472e1",
          "locked": true,
          "points": 3,
          "schema_version": 3,
          "solution": false,
          "task": false
        },
        "id": "40ca2564-e2ee-412e-863d-70274652f47d"
      },
      "outputs": [],
      "source": [
        "# Do not remove!!!"
      ]
    }
  ],
  "metadata": {
    "kernelspec": {
      "display_name": "Python 3 (ipykernel)",
      "language": "python",
      "name": "python3"
    },
    "language_info": {
      "codemirror_mode": {
        "name": "ipython",
        "version": 3
      },
      "file_extension": ".py",
      "mimetype": "text/x-python",
      "name": "python",
      "nbconvert_exporter": "python",
      "pygments_lexer": "ipython3",
      "version": "3.12.6"
    },
    "colab": {
      "provenance": []
    }
  },
  "nbformat": 4,
  "nbformat_minor": 5
}